{
 "cells": [
  {
   "cell_type": "markdown",
   "metadata": {},
   "source": [
    "<center>\n",
    "    <img src=\"https://cf-courses-data.s3.us.cloud-object-storage.appdomain.cloud/IBMDeveloperSkillsNetwork-DS0105EN-SkillsNetwork/labs/Module2/images/SN_web_lightmode.png\" width=\"300\" alt=\"cognitiveclass.ai logo\">\n",
    "</center>\n"
   ]
  },
  {
   "cell_type": "markdown",
   "metadata": {
    "tags": []
   },
   "source": [
    "# Diabetic Patients Analysis Notebook"
   ]
  },
  {
   "cell_type": "markdown",
   "metadata": {
    "tags": []
   },
   "source": [
    "# Diabetic Patients Analysis Notebook"
   ]
  },
  {
   "cell_type": "markdown",
   "metadata": {},
   "source": [
    "## Introduction\n",
    "\n",
    "This notebook aims to analyze data related to diabetic patients, exploring various aspects of their health and medical history."
   ]
  },
  {
   "cell_type": "markdown",
   "metadata": {},
   "source": [
    "## Introduction\n",
    "\n",
    "This notebook aims to analyze data related to diabetic patients, exploring various aspects of their health and medical history."
   ]
  },
  {
   "cell_type": "markdown",
   "metadata": {},
   "source": [
    "## Data Science Languages\n",
    "Some of the popular languages that Data Scientists use are:\n",
    "\n",
    "- Python\n",
    "\n",
    "- R\n",
    "\n",
    "- SQL\n",
    "\n",
    "- Scala\n",
    "\n",
    "- Java\n",
    "\n",
    "- C++\n",
    "\n",
    "- Julia\n",
    "\n",
    "- JavaScript\n",
    "\n",
    "- PHP\n",
    "\n",
    "- Go\n",
    "\n",
    "- Ruby\n",
    "\n",
    "- Visual Basic"
   ]
  },
  {
   "cell_type": "markdown",
   "metadata": {},
   "source": [
    "## Data Science Languages\n",
    "Some of the popular languages that Data Scientists use are:\n",
    "\n",
    "- Python\n",
    "\n",
    "- R\n",
    "\n",
    "- SQL\n",
    "\n",
    "- Scala\n",
    "\n",
    "- Java\n",
    "\n",
    "- C++\n",
    "\n",
    "- Julia\n",
    "\n",
    "- JavaScript\n",
    "\n",
    "- PHP\n",
    "\n",
    "- Go\n",
    "\n",
    "- Ruby\n",
    "\n",
    "- Visual Basic"
   ]
  },
  {
   "cell_type": "markdown",
   "metadata": {},
   "source": [
    "## Data Science Libraries\n",
    "Some of the commonly used libraries used by Data Scientists include:\n",
    "\n",
    "- Pandas\n",
    "\n",
    "- Numpy\n",
    "\n",
    "- Matplotlib\n",
    "\n",
    "- Seaborn\n",
    "\n",
    "- Scikit-learn\n",
    "\n",
    "- Keras\n",
    "\n",
    "- TensorFlow\n",
    "\n",
    "- PyTorch\n",
    "\n",
    "- Apache Spark\n",
    "\n",
    "- Vegas\n",
    "\n",
    "- Big DL\n",
    "\n",
    "- Ggplot2"
   ]
  },
  {
   "cell_type": "markdown",
   "metadata": {
    "jp-MarkdownHeadingCollapsed": true,
    "tags": []
   },
   "source": [
    "## Data Science Libraries\n",
    "Some of the commonly used libraries used by Data Scientists include:\n",
    "\n",
    "- Pandas\n",
    "\n",
    "- Numpy\n",
    "\n",
    "- Matplotlib\n",
    "\n",
    "- Seaborn\n",
    "\n",
    "- Scikit-learn\n",
    "\n",
    "- Keras\n",
    "\n",
    "- TensorFlow\n",
    "\n",
    "- PyTorch\n",
    "\n",
    "- Apache Spark\n",
    "\n",
    "- Vegas\n",
    "\n",
    "- Big DL\n",
    "\n",
    "- Ggplot2"
   ]
  },
  {
   "cell_type": "markdown",
   "metadata": {},
   "source": [
    "## Data Science Tools\n",
    "Some of the commonly used data science tools used by Data Scientists include:\n",
    "\n",
    "| Tool                |\n",
    "|---------------------|\n",
    "| Anaconda            |\n",
    "|Jupyter Notebook     |\n",
    "| R Studio            |\n",
    "| Spyder              |\n",
    "| Zeppelin            |"
   ]
  },
  {
   "cell_type": "markdown",
   "metadata": {},
   "source": [
    "## Data Science Tools\n",
    "Some of the commonly used data science tools used by Data Scientists include:\n",
    "\n",
    "| Tool                |\n",
    "|---------------------|\n",
    "| Anaconda            |\n",
    "|Jupyter Notebook     |\n",
    "| R Studio            |\n",
    "| Spyder              |\n",
    "| Zeppelin            |"
   ]
  },
  {
   "cell_type": "markdown",
   "metadata": {},
   "source": [
    "## Arithmetic Expression Examples\n",
    "below are the few example of arithmetic expressions in Python"
   ]
  },
  {
   "cell_type": "markdown",
   "metadata": {},
   "source": [
    "## Arithmetic Expression Examples\n",
    "below are the few example of arithmetic expressions in Python"
   ]
  },
  {
   "cell_type": "markdown",
   "metadata": {},
   "source": [
    "# Code Cell - Multiply and Add Numbers\n"
   ]
  },
  {
   "cell_type": "code",
   "execution_count": 2,
   "metadata": {
    "tags": []
   },
   "outputs": [
    {
     "data": {
      "text/plain": [
       "17"
      ]
     },
     "execution_count": 2,
     "metadata": {},
     "output_type": "execute_result"
    }
   ],
   "source": [
    "# Define two numbers\n",
    "number_1 = 3\n",
    "number_2 = 4\n",
    "number_3 = 5\n",
    "\n",
    "# Multiply the numbers\n",
    "result = (number_1 * number_2) + number_3\n",
    "\n",
    "\n",
    "# Display the results\n",
    "result"
   ]
  },
  {
   "cell_type": "markdown",
   "metadata": {
    "tags": []
   },
   "source": [
    "# Code Cell - Convert Minutes to Hours"
   ]
  },
  {
   "cell_type": "code",
   "execution_count": 4,
   "metadata": {
    "tags": []
   },
   "outputs": [
    {
     "data": {
      "text/plain": [
       "2.0"
      ]
     },
     "execution_count": 4,
     "metadata": {},
     "output_type": "execute_result"
    }
   ],
   "source": [
    "# Example: Convert minutes to hours\n",
    "minutes = 120\n",
    "\n",
    "hours = (minutes / 60)\n",
    "\n",
    "hours"
   ]
  },
  {
   "cell_type": "markdown",
   "metadata": {},
   "source": [
    "## Objectives\n",
    "\n",
    "- Understand the basics of Python programming language.\n",
    "- Learn how to use control structures such as loops and conditional statements.\n",
    "- Gain proficiency in working with data structures like lists and dictionaries.\n",
    "- Explore advanced topics like functions and modules.\n",
    "- Add comments to code cell\n",
    "- Create markdown cell\n",
    "- Add ordered and unordered markdown cell\n",
    "- Formate content and markdown cells with heading styles"
   ]
  },
  {
   "cell_type": "markdown",
   "metadata": {},
   "source": [
    "## Objectives\n",
    "\n",
    "- Understand the basics of Python programming language.\n",
    "- Learn how to use control structures such as loops and conditional statements.\n",
    "- Gain proficiency in working with data structures like lists and dictionaries.\n",
    "- Explore advanced topics like functions and modules.\n",
    "- Add comments to code cell\n",
    "- Create markdown cell\n",
    "- Add ordered and unordered markdown cell\n",
    "- Formate content and markdown cells with heading styles"
   ]
  },
  {
   "cell_type": "markdown",
   "metadata": {},
   "source": [
    "## Author(s)\n",
    "\n",
    "Engr. Misbah Perveen"
   ]
  },
  {
   "cell_type": "markdown",
   "metadata": {},
   "source": [
    "## Author(s)\n",
    "\n",
    "Engr. Misbah Perveen"
   ]
  },
  {
   "cell_type": "code",
   "execution_count": null,
   "metadata": {},
   "outputs": [],
   "source": []
  }
 ],
 "metadata": {
  "kernelspec": {
   "display_name": "Python",
   "language": "python",
   "name": "conda-env-python-py"
  },
  "language_info": {
   "codemirror_mode": {
    "name": "ipython",
    "version": 3
   },
   "file_extension": ".py",
   "mimetype": "text/x-python",
   "name": "python",
   "nbconvert_exporter": "python",
   "pygments_lexer": "ipython3",
   "version": "3.7.12"
  }
 },
 "nbformat": 4,
 "nbformat_minor": 4
}
