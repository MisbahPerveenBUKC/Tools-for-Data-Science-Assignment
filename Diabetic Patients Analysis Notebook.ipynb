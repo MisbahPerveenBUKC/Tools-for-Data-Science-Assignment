{
 "cells": [
  {
   "cell_type": "markdown",
   "metadata": {},
   "source": [
    "<center>\n",
    "    <img src=\"https://cf-courses-data.s3.us.cloud-object-storage.appdomain.cloud/IBMDeveloperSkillsNetwork-DS0105EN-SkillsNetwork/labs/Module2/images/SN_web_lightmode.png\" width=\"300\" alt=\"cognitiveclass.ai logo\">\n",
    "</center>\n"
   ]
  },
  {
   "cell_type": "markdown",
   "metadata": {
    "tags": []
   },
   "source": [
    "# Diabetic Patients Analysis Notebook"
   ]
  },
  {
   "cell_type": "markdown",
   "metadata": {
    "tags": []
   },
   "source": [
    "# Diabetic Patients Analysis Notebook"
   ]
  },
  {
   "cell_type": "markdown",
   "metadata": {},
   "source": [
    "## Introduction\n",
    "\n",
    "This notebook aims to analyze data related to diabetic patients, exploring various aspects of their health and medical history."
   ]
  },
  {
   "cell_type": "markdown",
   "metadata": {},
   "source": [
    "## Introduction\n",
    "\n",
    "This notebook aims to analyze data related to diabetic patients, exploring various aspects of their health and medical history."
   ]
  },
  {
   "cell_type": "markdown",
   "metadata": {},
   "source": [
    "## Data Science Languages\n",
    "\n",
    "- Python\n",
    "- R\n",
    "- SQL"
   ]
  },
  {
   "cell_type": "markdown",
   "metadata": {},
   "source": [
    "## Data Science Languages\n",
    "\n",
    "- Python\n",
    "- R\n",
    "- SQL"
   ]
  },
  {
   "cell_type": "markdown",
   "metadata": {},
   "source": [
    "## Data Science Libraries\n",
    "\n",
    "- NumPy\n",
    "- Pandas\n",
    "- Matplotlib\n",
    "- Seaborn\n",
    "- Scikit-learn"
   ]
  },
  {
   "cell_type": "markdown",
   "metadata": {},
   "source": [
    "## Data Science Libraries\n",
    "\n",
    "- NumPy\n",
    "- Pandas\n",
    "- Matplotlib\n",
    "- Seaborn\n",
    "- Scikit-learn"
   ]
  },
  {
   "cell_type": "markdown",
   "metadata": {},
   "source": [
    "## Data Science Tools\n",
    "\n",
    "| Tool         | Description                   |\n",
    "|--------------|-------------------------------|\n",
    "| Jupyter      | Interactive computing         |\n",
    "| VS Code      | Integrated Development Env.   |\n",
    "| Tableau      | Data visualization            |\n",
    "| TensorFlow   | Machine learning framework    |"
   ]
  },
  {
   "cell_type": "markdown",
   "metadata": {},
   "source": [
    "## Data Science Tools\n",
    "\n",
    "| Tool         | Description                   |\n",
    "|--------------|-------------------------------|\n",
    "| Jupyter      | Interactive computing         |\n",
    "| VS Code      | Integrated Development Env.   |\n",
    "| Tableau      | Data visualization            |\n",
    "| TensorFlow   | Machine learning framework    |"
   ]
  },
  {
   "cell_type": "markdown",
   "metadata": {},
   "source": [
    "## Arithmetic Expression Examples\n",
    "\n",
    "In this section, we'll explore various arithmetic expressions relevant to diabetic patients' data. These examples will include basic mathematical operations and calculations that can be useful in analyzing health-related metrics."
   ]
  },
  {
   "cell_type": "markdown",
   "metadata": {},
   "source": [
    "## Arithmetic Expression Examples\n",
    "\n",
    "In this section, we'll explore various arithmetic expressions relevant to diabetic patients' data. These examples will include basic mathematical operations and calculations that can be useful in analyzing health-related metrics."
   ]
  },
  {
   "cell_type": "markdown",
   "metadata": {},
   "source": [
    "### Example 1: Body Mass Index (BMI) Calculation\n",
    "\n",
    "\\[ BMI = \\frac{{\\text{{weight in kilograms}}}}{{(\\text{{height in meters}})^2}} \\]\n",
    "\n",
    "### Example 2: Blood Sugar Level Change\n",
    "\n",
    "\\[ \\% \\text{{ Change}} = \\frac{{\\text{{New Value}} - \\text{{Old Value}}}}{{\\text{{Old Value}}}} \\times 100 \\]\n",
    "\n",
    "### Example 3: Average Heart Rate\n",
    "\n",
    "\\[ \\text{{Average Heart Rate}} = \\frac{{\\text{{Sum of Heart Rates}}}}{{\\text{{Number of Measurements}}}} \\]"
   ]
  },
  {
   "cell_type": "markdown",
   "metadata": {},
   "source": [
    "### Example 1: Body Mass Index (BMI) Calculation\n",
    "\n",
    "\\[ BMI = \\frac{{\\text{{weight in kilograms}}}}{{(\\text{{height in meters}})^2}} \\]\n",
    "\n",
    "### Example 2: Blood Sugar Level Change\n",
    "\n",
    "\\[ \\% \\text{{ Change}} = \\frac{{\\text{{New Value}} - \\text{{Old Value}}}}{{\\text{{Old Value}}}} \\times 100 \\]\n",
    "\n",
    "### Example 3: Average Heart Rate\n",
    "\n",
    "\\[ \\text{{Average Heart Rate}} = \\frac{{\\text{{Sum of Heart Rates}}}}{{\\text{{Number of Measurements}}}} \\]"
   ]
  },
  {
   "cell_type": "markdown",
   "metadata": {},
   "source": [
    "# Code Cell - Multiply and Add Numbers\n"
   ]
  },
  {
   "cell_type": "markdown",
   "metadata": {},
   "source": [
    "# Code Cell - Multiply and Add Numbers\n"
   ]
  },
  {
   "cell_type": "code",
   "execution_count": 5,
   "metadata": {
    "tags": []
   },
   "outputs": [
    {
     "data": {
      "text/plain": [
       "(21, 10)"
      ]
     },
     "execution_count": 5,
     "metadata": {},
     "output_type": "execute_result"
    }
   ],
   "source": [
    "# Define two numbers\n",
    "number_1 = 7\n",
    "number_2 = 3\n",
    "\n",
    "# Multiply the numbers\n",
    "multiplication_result = number_1 * number_2\n",
    "\n",
    "# Add the numbers\n",
    "addition_result = number_1 + number_2\n",
    "\n",
    "# Display the results\n",
    "multiplication_result, addition_result"
   ]
  },
  {
   "cell_type": "markdown",
   "metadata": {
    "tags": []
   },
   "source": [
    "# Code Cell - Convert Minutes to Hours"
   ]
  },
  {
   "cell_type": "markdown",
   "metadata": {
    "tags": []
   },
   "source": [
    "# Code Cell - Convert Minutes to Hours"
   ]
  },
  {
   "cell_type": "code",
   "execution_count": 4,
   "metadata": {
    "tags": []
   },
   "outputs": [
    {
     "data": {
      "text/plain": [
       "2.0"
      ]
     },
     "execution_count": 4,
     "metadata": {},
     "output_type": "execute_result"
    }
   ],
   "source": [
    "# Example: Convert minutes to hours\n",
    "minutes = 120\n",
    "\n",
    "hours = (minutes / 60)\n",
    "\n",
    "hours"
   ]
  },
  {
   "cell_type": "markdown",
   "metadata": {},
   "source": [
    "## Objectives\n",
    "\n",
    "1. **Demographic Analysis:**\n",
    "   Explore and analyze demographic data of diabetic patients, including age distribution, gender representation, and geographical locations.\n",
    "\n",
    "2. **Correlation Investigation:**\n",
    "   Investigate correlations between lifestyle factors and diabetes, examining variables such as diet, exercise habits, and sleep patterns.\n",
    "\n",
    "3. **Predictive Modeling:**\n",
    "   Implement predictive modeling techniques to assess diabetic risk, utilizing machine learning algorithms and statistical analysis.\n",
    "\n",
    "4. **Data Visualization:**\n",
    "   Utilize data science libraries to create informative visualizations that provide insights into diabetic patient data.\n",
    "\n",
    "5. **Documentation and Sharing:**\n",
    "   Document the analysis process, findings, and insights in a clear and concise manner. Share the notebook on GitHub to facilitate collaboration and knowledge sharing."
   ]
  },
  {
   "cell_type": "markdown",
   "metadata": {},
   "source": [
    "## Objectives\n",
    "\n",
    "1. **Demographic Analysis:**\n",
    "   Explore and analyze demographic data of diabetic patients, including age distribution, gender representation, and geographical locations.\n",
    "\n",
    "2. **Correlation Investigation:**\n",
    "   Investigate correlations between lifestyle factors and diabetes, examining variables such as diet, exercise habits, and sleep patterns.\n",
    "\n",
    "3. **Predictive Modeling:**\n",
    "   Implement predictive modeling techniques to assess diabetic risk, utilizing machine learning algorithms and statistical analysis.\n",
    "\n",
    "4. **Data Visualization:**\n",
    "   Utilize data science libraries to create informative visualizations that provide insights into diabetic patient data.\n",
    "\n",
    "5. **Documentation and Sharing:**\n",
    "   Document the analysis process, findings, and insights in a clear and concise manner. Share the notebook on GitHub to facilitate collaboration and knowledge sharing."
   ]
  },
  {
   "cell_type": "markdown",
   "metadata": {},
   "source": [
    "## Author\n",
    "\n",
    "**Engr. Misbah Perveen**"
   ]
  },
  {
   "cell_type": "markdown",
   "metadata": {},
   "source": [
    "## Author\n",
    "\n",
    "**Engr. Misbah Perveen**"
   ]
  }
 ],
 "metadata": {
  "kernelspec": {
   "display_name": "Python",
   "language": "python",
   "name": "conda-env-python-py"
  },
  "language_info": {
   "codemirror_mode": {
    "name": "ipython",
    "version": 3
   },
   "file_extension": ".py",
   "mimetype": "text/x-python",
   "name": "python",
   "nbconvert_exporter": "python",
   "pygments_lexer": "ipython3",
   "version": "3.7.12"
  }
 },
 "nbformat": 4,
 "nbformat_minor": 4
}
